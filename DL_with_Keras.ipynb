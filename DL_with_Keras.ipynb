{
 "cells": [
  {
   "cell_type": "code",
   "execution_count": 1,
   "metadata": {},
   "outputs": [],
   "source": [
    "#importing libraries\n",
    "import pandas as pd\n",
    "import numpy as np\n",
    "from sklearn.preprocessing import MinMaxScaler"
   ]
  },
  {
   "cell_type": "code",
   "execution_count": 2,
   "metadata": {},
   "outputs": [
    {
     "name": "stdout",
     "output_type": "stream",
     "text": [
      "Note: total_earnings valeus were scaled by mulitiplying by 0.0000036968 and adding -0.115913\n"
     ]
    }
   ],
   "source": [
    "#read and preprocess the data\n",
    "train_data_df=pd.read_csv('./data/sales_data_training.csv')\n",
    "test_data_df=pd.read_csv('./data/sales_data_test.csv')\n",
    "scaler=MinMaxScaler(feature_range=(0,1))\n",
    "scaled_training=scaler.fit_transform(train_data_df)\n",
    "scaled_testing=scaler.transform(test_data_df)\n",
    "\n",
    "#print out the adjustment that the scaler applied to the total_earnings column \n",
    "print(\"Note: total_earnings valeus were scaled by mulitiplying by {:.10f} and adding {:.6f}\".format(scaler.scale_[8], scaler.min_[8]))\n",
    "\n",
    "X=np.delete(scaled_training, 8,1)\n",
    "Y=scaled_training[:,8]"
   ]
  },
  {
   "cell_type": "code",
   "execution_count": null,
   "metadata": {},
   "outputs": [],
   "source": []
  },
  {
   "cell_type": "code",
   "execution_count": null,
   "metadata": {},
   "outputs": [],
   "source": []
  },
  {
   "cell_type": "code",
   "execution_count": null,
   "metadata": {},
   "outputs": [],
   "source": []
  }
 ],
 "metadata": {
  "kernelspec": {
   "display_name": "Python 3",
   "language": "python",
   "name": "python3"
  },
  "language_info": {
   "codemirror_mode": {
    "name": "ipython",
    "version": 3
   },
   "file_extension": ".py",
   "mimetype": "text/x-python",
   "name": "python",
   "nbconvert_exporter": "python",
   "pygments_lexer": "ipython3",
   "version": "3.6.3"
  }
 },
 "nbformat": 4,
 "nbformat_minor": 2
}
