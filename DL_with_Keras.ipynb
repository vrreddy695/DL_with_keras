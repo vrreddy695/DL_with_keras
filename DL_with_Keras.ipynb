{
 "cells": [
  {
   "cell_type": "code",
   "execution_count": 1,
   "metadata": {},
   "outputs": [
    {
     "name": "stderr",
     "output_type": "stream",
     "text": [
      "Using TensorFlow backend.\n"
     ]
    }
   ],
   "source": [
    "#importing libraries\n",
    "import pandas as pd\n",
    "import numpy as np\n",
    "from sklearn.preprocessing import MinMaxScaler\n",
    "from keras.models import Sequential\n",
    "from keras.layers import *"
   ]
  },
  {
   "cell_type": "code",
   "execution_count": 2,
   "metadata": {},
   "outputs": [
    {
     "name": "stdout",
     "output_type": "stream",
     "text": [
      "Note: total_earnings valeus were scaled by mulitiplying by 0.0000036968 and adding -0.115913\n"
     ]
    }
   ],
   "source": [
    "#read and preprocess the data\n",
    "train_data_df=pd.read_csv('./data/sales_data_training.csv')\n",
    "test_data_df=pd.read_csv('./data/sales_data_test.csv')\n",
    "scaler=MinMaxScaler(feature_range=(0,1))\n",
    "scaled_training=scaler.fit_transform(train_data_df)\n",
    "scaled_testing=scaler.transform(test_data_df)\n",
    "\n",
    "#print out the adjustment that the scaler applied to the total_earnings column \n",
    "print(\"Note: total_earnings valeus were scaled by mulitiplying by {:.10f} and adding {:.6f}\".format(scaler.scale_[8], scaler.min_[8]))\n",
    "\n",
    "X=np.delete(scaled_training, 8,1)\n",
    "Y=scaled_training[:,8]"
   ]
  },
  {
   "cell_type": "code",
   "execution_count": 3,
   "metadata": {},
   "outputs": [
    {
     "name": "stdout",
     "output_type": "stream",
     "text": [
      "Epoch 1/50\n",
      " - 0s - loss: 0.0161\n",
      "Epoch 2/50\n",
      " - 0s - loss: 0.0020\n",
      "Epoch 3/50\n",
      " - 0s - loss: 8.7011e-04\n",
      "Epoch 4/50\n",
      " - 0s - loss: 5.7265e-04\n",
      "Epoch 5/50\n",
      " - 0s - loss: 4.3356e-04\n",
      "Epoch 6/50\n",
      " - 0s - loss: 2.6099e-04\n",
      "Epoch 7/50\n",
      " - 0s - loss: 1.9208e-04\n",
      "Epoch 8/50\n",
      " - 0s - loss: 1.3025e-04\n",
      "Epoch 9/50\n",
      " - 0s - loss: 1.1106e-04\n",
      "Epoch 10/50\n",
      " - 0s - loss: 9.2491e-05\n",
      "Epoch 11/50\n",
      " - 0s - loss: 9.5189e-05\n",
      "Epoch 12/50\n",
      " - 0s - loss: 8.7387e-05\n",
      "Epoch 13/50\n",
      " - 0s - loss: 6.3369e-05\n",
      "Epoch 14/50\n",
      " - 0s - loss: 5.4053e-05\n",
      "Epoch 15/50\n",
      " - 0s - loss: 4.6271e-05\n",
      "Epoch 16/50\n",
      " - 0s - loss: 4.5985e-05\n",
      "Epoch 17/50\n",
      " - 0s - loss: 4.8068e-05\n",
      "Epoch 18/50\n",
      " - 0s - loss: 4.2887e-05\n",
      "Epoch 19/50\n",
      " - 0s - loss: 3.8033e-05\n",
      "Epoch 20/50\n",
      " - 0s - loss: 7.1847e-05\n",
      "Epoch 21/50\n",
      " - 0s - loss: 5.2282e-05\n",
      "Epoch 22/50\n",
      " - 0s - loss: 5.3429e-05\n",
      "Epoch 23/50\n",
      " - 0s - loss: 4.1677e-05\n",
      "Epoch 24/50\n",
      " - 0s - loss: 5.6814e-05\n",
      "Epoch 25/50\n",
      " - 0s - loss: 4.5286e-05\n",
      "Epoch 26/50\n",
      " - 0s - loss: 4.4519e-05\n",
      "Epoch 27/50\n",
      " - 0s - loss: 3.3926e-05\n",
      "Epoch 28/50\n",
      " - 0s - loss: 3.0011e-05\n",
      "Epoch 29/50\n",
      " - 0s - loss: 3.2064e-05\n",
      "Epoch 30/50\n",
      " - 0s - loss: 2.9534e-05\n",
      "Epoch 31/50\n",
      " - 0s - loss: 2.6059e-05\n",
      "Epoch 32/50\n",
      " - 0s - loss: 2.6906e-05\n",
      "Epoch 33/50\n",
      " - 0s - loss: 2.4747e-05\n",
      "Epoch 34/50\n",
      " - 0s - loss: 3.4290e-05\n",
      "Epoch 35/50\n",
      " - 0s - loss: 2.5449e-05\n",
      "Epoch 36/50\n",
      " - 0s - loss: 3.7615e-05\n",
      "Epoch 37/50\n",
      " - 0s - loss: 3.3109e-05\n",
      "Epoch 38/50\n",
      " - 0s - loss: 2.7928e-05\n",
      "Epoch 39/50\n",
      " - 0s - loss: 2.5696e-05\n",
      "Epoch 40/50\n",
      " - 0s - loss: 3.2557e-05\n",
      "Epoch 41/50\n",
      " - 0s - loss: 2.6984e-05\n",
      "Epoch 42/50\n",
      " - 0s - loss: 2.3386e-05\n",
      "Epoch 43/50\n",
      " - 0s - loss: 3.0592e-05\n",
      "Epoch 44/50\n",
      " - 0s - loss: 2.7041e-05\n",
      "Epoch 45/50\n",
      " - 0s - loss: 2.6217e-05\n",
      "Epoch 46/50\n",
      " - 0s - loss: 3.4175e-05\n",
      "Epoch 47/50\n",
      " - 0s - loss: 4.3531e-05\n",
      "Epoch 48/50\n",
      " - 0s - loss: 2.8650e-05\n",
      "Epoch 49/50\n",
      " - 0s - loss: 3.2286e-05\n",
      "Epoch 50/50\n",
      " - 0s - loss: 4.4416e-05\n",
      "The mean squared error (MSE) fot the data set is : 0.00016406696289777756\n"
     ]
    }
   ],
   "source": [
    "# Define Model\n",
    "model=Sequential()\n",
    "model.add(Dense(50, input_dim=9, activation='relu'))\n",
    "model.add(Dense(100, activation='relu'))\n",
    "model.add(Dense(50, activation='relu'))\n",
    "model.add(Dense(1, activation='linear'))\n",
    "model.compile(loss='mean_squared_error', optimizer='adam')\n",
    "\n",
    "# train the model\n",
    "model.fit(X, Y, epochs=50, shuffle=True, verbose=2)\n",
    "X_test=np.delete(scaled_testing, 8,1)\n",
    "Y_test=scaled_testing[:,8]\n",
    "\n",
    "test_error_rate=model.evaluate(X_test, Y_test, verbose=0)\n",
    "print('The mean squared error (MSE) fot the data set is : {}'.format(test_error_rate))"
   ]
  },
  {
   "cell_type": "code",
   "execution_count": null,
   "metadata": {},
   "outputs": [],
   "source": []
  },
  {
   "cell_type": "code",
   "execution_count": null,
   "metadata": {},
   "outputs": [],
   "source": []
  }
 ],
 "metadata": {
  "kernelspec": {
   "display_name": "Python 3",
   "language": "python",
   "name": "python3"
  },
  "language_info": {
   "codemirror_mode": {
    "name": "ipython",
    "version": 3
   },
   "file_extension": ".py",
   "mimetype": "text/x-python",
   "name": "python",
   "nbconvert_exporter": "python",
   "pygments_lexer": "ipython3",
   "version": "3.6.3"
  }
 },
 "nbformat": 4,
 "nbformat_minor": 2
}
