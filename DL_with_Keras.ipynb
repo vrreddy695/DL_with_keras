{
 "cells": [
  {
   "cell_type": "code",
   "execution_count": 4,
   "metadata": {},
   "outputs": [],
   "source": [
    "#importing libraries\n",
    "import pandas as pd\n",
    "import numpy as np\n",
    "from sklearn.preprocessing import MinMaxScaler\n",
    "from keras.models import Sequential\n",
    "from keras.layers import *"
   ]
  },
  {
   "cell_type": "code",
   "execution_count": 2,
   "metadata": {},
   "outputs": [
    {
     "name": "stdout",
     "output_type": "stream",
     "text": [
      "Note: total_earnings valeus were scaled by mulitiplying by 0.0000036968 and adding -0.115913\n"
     ]
    }
   ],
   "source": [
    "#read and preprocess the data\n",
    "train_data_df=pd.read_csv('./data/sales_data_training.csv')\n",
    "test_data_df=pd.read_csv('./data/sales_data_test.csv')\n",
    "scaler=MinMaxScaler(feature_range=(0,1))\n",
    "scaled_training=scaler.fit_transform(train_data_df)\n",
    "scaled_testing=scaler.transform(test_data_df)\n",
    "\n",
    "#print out the adjustment that the scaler applied to the total_earnings column \n",
    "print(\"Note: total_earnings valeus were scaled by mulitiplying by {:.10f} and adding {:.6f}\".format(scaler.scale_[8], scaler.min_[8]))\n",
    "\n",
    "X=np.delete(scaled_training, 8,1)\n",
    "Y=scaled_training[:,8]"
   ]
  },
  {
   "cell_type": "code",
   "execution_count": 7,
   "metadata": {},
   "outputs": [
    {
     "name": "stdout",
     "output_type": "stream",
     "text": [
      "Epoch 1/50\n",
      " - 0s - loss: 0.0166\n",
      "Epoch 2/50\n",
      " - 0s - loss: 0.0031\n",
      "Epoch 3/50\n",
      " - 0s - loss: 0.0013\n",
      "Epoch 4/50\n",
      " - 0s - loss: 7.0228e-04\n",
      "Epoch 5/50\n",
      " - 0s - loss: 4.7274e-04\n",
      "Epoch 6/50\n",
      " - 0s - loss: 3.0379e-04\n",
      "Epoch 7/50\n",
      " - 0s - loss: 2.1299e-04\n",
      "Epoch 8/50\n",
      " - 0s - loss: 1.7536e-04\n",
      "Epoch 9/50\n",
      " - 0s - loss: 1.7106e-04\n",
      "Epoch 10/50\n",
      " - 0s - loss: 1.0878e-04\n",
      "Epoch 11/50\n",
      " - 0s - loss: 8.9109e-05\n",
      "Epoch 12/50\n",
      " - 0s - loss: 7.3881e-05\n",
      "Epoch 13/50\n",
      " - 0s - loss: 5.7875e-05\n",
      "Epoch 14/50\n",
      " - 0s - loss: 7.3484e-05\n",
      "Epoch 15/50\n",
      " - 0s - loss: 5.8015e-05\n",
      "Epoch 16/50\n",
      " - 0s - loss: 6.9076e-05\n",
      "Epoch 17/50\n",
      " - 0s - loss: 5.8700e-05\n",
      "Epoch 18/50\n",
      " - 0s - loss: 3.8019e-05\n",
      "Epoch 19/50\n",
      " - 0s - loss: 3.7204e-05\n",
      "Epoch 20/50\n",
      " - 0s - loss: 3.9959e-05\n",
      "Epoch 21/50\n",
      " - 0s - loss: 5.1133e-05\n",
      "Epoch 22/50\n",
      " - 0s - loss: 2.9150e-05\n",
      "Epoch 23/50\n",
      " - 0s - loss: 3.3103e-05\n",
      "Epoch 24/50\n",
      " - 0s - loss: 3.6539e-05\n",
      "Epoch 25/50\n",
      " - 0s - loss: 2.8378e-05\n",
      "Epoch 26/50\n",
      " - 0s - loss: 4.6782e-05\n",
      "Epoch 27/50\n",
      " - 0s - loss: 3.9234e-05\n",
      "Epoch 28/50\n",
      " - 0s - loss: 3.5508e-05\n",
      "Epoch 29/50\n",
      " - 0s - loss: 2.6893e-05\n",
      "Epoch 30/50\n",
      " - 0s - loss: 2.5036e-05\n",
      "Epoch 31/50\n",
      " - 0s - loss: 2.6744e-05\n",
      "Epoch 32/50\n",
      " - 0s - loss: 2.7739e-05\n",
      "Epoch 33/50\n",
      " - 0s - loss: 2.3615e-05\n",
      "Epoch 34/50\n",
      " - 0s - loss: 3.8851e-05\n",
      "Epoch 35/50\n",
      " - 0s - loss: 4.0769e-05\n",
      "Epoch 36/50\n",
      " - 0s - loss: 4.0955e-05\n",
      "Epoch 37/50\n",
      " - 0s - loss: 2.7587e-05\n",
      "Epoch 38/50\n",
      " - 0s - loss: 2.6424e-05\n",
      "Epoch 39/50\n",
      " - 0s - loss: 2.6549e-05\n",
      "Epoch 40/50\n",
      " - 0s - loss: 3.9025e-05\n",
      "Epoch 41/50\n",
      " - 0s - loss: 3.1418e-05\n",
      "Epoch 42/50\n",
      " - 0s - loss: 2.6110e-05\n",
      "Epoch 43/50\n",
      " - 0s - loss: 2.6937e-05\n",
      "Epoch 44/50\n",
      " - 0s - loss: 2.8233e-05\n",
      "Epoch 45/50\n",
      " - 0s - loss: 2.0416e-05\n",
      "Epoch 46/50\n",
      " - 0s - loss: 3.1272e-05\n",
      "Epoch 47/50\n",
      " - 0s - loss: 4.9569e-05\n",
      "Epoch 48/50\n",
      " - 0s - loss: 7.1366e-05\n",
      "Epoch 49/50\n",
      " - 0s - loss: 9.3652e-05\n",
      "Epoch 50/50\n",
      " - 0s - loss: 5.8507e-05\n"
     ]
    },
    {
     "ename": "NameError",
     "evalue": "name 'test_error' is not defined",
     "output_type": "error",
     "traceback": [
      "\u001b[0;31m---------------------------------------------------------------------------\u001b[0m",
      "\u001b[0;31mNameError\u001b[0m                                 Traceback (most recent call last)",
      "\u001b[0;32m<ipython-input-7-ccb4c0c0fab0>\u001b[0m in \u001b[0;36m<module>\u001b[0;34m()\u001b[0m\n\u001b[1;32m     13\u001b[0m \u001b[0;34m\u001b[0m\u001b[0m\n\u001b[1;32m     14\u001b[0m \u001b[0mtest_error_rate\u001b[0m\u001b[0;34m=\u001b[0m\u001b[0mmodel\u001b[0m\u001b[0;34m.\u001b[0m\u001b[0mevaluate\u001b[0m\u001b[0;34m(\u001b[0m\u001b[0mX_test\u001b[0m\u001b[0;34m,\u001b[0m \u001b[0mY_test\u001b[0m\u001b[0;34m,\u001b[0m \u001b[0mverbose\u001b[0m\u001b[0;34m=\u001b[0m\u001b[0;36m0\u001b[0m\u001b[0;34m)\u001b[0m\u001b[0;34m\u001b[0m\u001b[0m\n\u001b[0;32m---> 15\u001b[0;31m \u001b[0mprint\u001b[0m\u001b[0;34m(\u001b[0m\u001b[0;34m'The mean squared error (MSE) fot the data set is : {}'\u001b[0m\u001b[0;34m.\u001b[0m\u001b[0mformat\u001b[0m\u001b[0;34m(\u001b[0m\u001b[0mtest_error\u001b[0m\u001b[0;34m)\u001b[0m\u001b[0;34m)\u001b[0m\u001b[0;34m\u001b[0m\u001b[0m\n\u001b[0m",
      "\u001b[0;31mNameError\u001b[0m: name 'test_error' is not defined"
     ]
    }
   ],
   "source": [
    "# Define Model\n",
    "model=Sequential()\n",
    "model.add(Dense(50, input_dim=9, activation='relu'))\n",
    "model.add(Dense(100, activation='relu'))\n",
    "model.add(Dense(50, activation='relu'))\n",
    "model.add(Dense(1, activation='linear'))\n",
    "model.compile(loss='mean_squared_error', optimizer='adam')\n",
    "\n",
    "# train the model\n",
    "model.fit(X, Y, epochs=50, shuffle=True, verbose=2)\n",
    "X_test=np.delete(scaled_testing, 8,1)\n",
    "Y_test=scaled_testing[:,8]\n",
    "\n",
    "test_error_rate=model.evaluate(X_test, Y_test, verbose=0)\n",
    "print('The mean squared error (MSE) fot the data set is : {}'.format(test_error))"
   ]
  },
  {
   "cell_type": "code",
   "execution_count": null,
   "metadata": {},
   "outputs": [],
   "source": []
  },
  {
   "cell_type": "code",
   "execution_count": null,
   "metadata": {},
   "outputs": [],
   "source": []
  }
 ],
 "metadata": {
  "kernelspec": {
   "display_name": "Python 3",
   "language": "python",
   "name": "python3"
  },
  "language_info": {
   "codemirror_mode": {
    "name": "ipython",
    "version": 3
   },
   "file_extension": ".py",
   "mimetype": "text/x-python",
   "name": "python",
   "nbconvert_exporter": "python",
   "pygments_lexer": "ipython3",
   "version": "3.6.3"
  }
 },
 "nbformat": 4,
 "nbformat_minor": 2
}
